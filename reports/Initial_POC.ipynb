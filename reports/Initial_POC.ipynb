{
 "cells": [
  {
   "cell_type": "markdown",
   "metadata": {
    "collapsed": true,
    "pycharm": {
     "name": "#%% md\n"
    }
   },
   "source": [
    "# RL For Controlled Environment Agriculture\n",
    "\n",
    "### Abstract\n",
    "---\n",
    "Make an OpenAI Gym environment for training DRL algorithms.\n",
    "Compare different algorithms to determine which are the most robust to:\n",
    "1. environmental conditions outside of training distribution\n",
    "2. transfer learning between growth environments of different physical scale"
   ]
  },
  {
   "cell_type": "markdown",
   "source": [
    "## 1. Introduction\n",
    "---\n",
    "\n",
    "Demands on agricultural systems will increase as the world population increases.\n",
    "Labor costs are the dominant cost in most agricultural system.\n",
    "Unsurprisingly, most research focuses on reduction of labor costs through increased efficiency via mechanization, automation and increased yield.\n",
    "Controlled environment Agriculture (CEA) is an old idea gaining more recent momentum due to advances in automation, lighting and climate control.\n",
    "One of the fundamental challenges of CEA is optimal control of the growing environment.\n",
    "Traditional methods of optimal control in agriculture include reactive methods (thermostats) and predictive methods (PID).\n",
    "Reinforcement leaning(RL) is a well studied field that offers solutions for optimal control problems.\n",
    "The combination of RL and Deep Learning(DL) techniques created the collection of techniques known as Deep Reinforcement Learning (DRL).\n",
    "There is increasing interest in using DRL in real life optimal control problem including CEA."
   ],
   "metadata": {
    "collapsed": false,
    "pycharm": {
     "name": "#%% md\n"
    }
   }
  },
  {
   "cell_type": "markdown",
   "source": [
    "## 2. Related Work\n",
    "---\n",
    "Most relevant related work is coming out of China.\n",
    "Some good papers and some very bad ones.\n",
    "All papers are essentially a proof of concept and do not rigorously explore the RL component.\n",
    "Most of the recent papers just use Actor-Critic because it is the most accessible SOTA for model-free RL.\n",
    "Another common theme is using IoT devices to collect observational data.\n",
    "\n",
    "Opportunities for further research:\n",
    "- robustness to climate outside historical distribution\n",
    "- robustness to deployment in diverse cultivation structures\n",
    "- exploring value vs policy methods\n",
    "- physically informed model based RL\n",
    "\n",
    "Most relevant related work:\n",
    "- <div class=\"csl-entry\">Cao, X., Yao, Y., Li, L., Zhang, W., An, Z., Zhang, Z., Guo, S., Xiao, L., Cao, X., &#38; Luo, D. (2021). <i>IGrow: A Smart Agriculture Solution to Autonomous Greenhouse Control</i>. http://arxiv.org/abs/2107.05464</div>\n",
    "- <div class=\"csl-entry\">An, Z., Cao, X., Yao, Y., Zhang, W., Li, L., Wang, Y., Guo, S., &#38; Luo, D. (2021). <i>A Simulator-based Planning Framework for Optimizing Autonomous Greenhouse Control Strategy</i>. www.aaai.org</div>\n",
    "- <div class=\"csl-entry\">Zhang, W., Cao, X., Yao, Y., An, Z., Luo, D., &#38; Xiao, X. (2021). <i>Robust Model-based Reinforcement Learning for Autonomous Greenhouse Control</i>. http://arxiv.org/abs/2108.11645</div>\n",
    "- <div class=\"csl-entry\">Overweg, H., Berghuijs, H. N. C., &#38; Athanasiadis, I. N. (2021). <i>CropGym: a Reinforcement Learning Environment for Crop Management</i>. http://arxiv.org/abs/2104.04326</div>\n",
    "- <div class=\"csl-entry\">Wang, L., He, X., &#38; Luo, D. (2020). Deep reinforcement learning for greenhouse climate control. <i>Proceedings - 11th IEEE International Conference on Knowledge Graph, ICKG 2020</i>, 474–480. https://doi.org/10.1109/ICBK50248.2020.00073</div>\n",
    "- <div class=\"csl-entry\">Sun, L., Yang, Y., Hu, J., Porter, D., Marek, T., &#38; Hillyer, C. (2018). Reinforcement learning control for water-efficient agricultural irrigation. <i>Proceedings - 15th IEEE International Symposium on Parallel and Distributed Processing with Applications and 16th IEEE International Conference on Ubiquitous Computing and Communications, ISPA/IUCC 2017</i>, 1334–1341. https://doi.org/10.1109/ISPA/IUCC.2017.00203</div>\n",
    "- <div class=\"csl-entry\">Ban, B., &#38; Kim, S. (2017). Control of nonlinear, complex and black-boxed greenhouse system with reinforcement learning. <i>2017 International Conference on Information and Communication Technology Convergence (ICTC)</i>, 913–918. https://doi.org/10.1109/ICTC.2017.8190813</div>\n",
    "-"
   ],
   "metadata": {
    "collapsed": false,
    "pycharm": {
     "name": "#%% md\n"
    }
   }
  },
  {
   "cell_type": "markdown",
   "source": [
    "## 3. Alpha Grow\n",
    "---\n",
    "The goal is to assess which algorithms are the most robust to the following conditions:\n",
    "1. climatic conditions outside historical training distribution (generalizable)\n",
    "2. quickly adapting to new growth environments (sample efficiency)\n",
    "\n",
    "While exploring these two goals, the following will be elucidated:\n",
    "1. Are value or policy based methods best for optimal control in this domain\n",
    "2. Are model-based or model free methods more effective in this domain\n",
    "\n",
    "### 3.1 Greenhouse Gym\n",
    "To assess these research questions a simulated environment is needed.\n",
    "This simulation environment is constructed using a OpenAI Gym interface.\n",
    "OpenAI Gym interfaces are an industry standard for developing and comparing RL algorithms.\n",
    "The greenhouse simulator will calculate environmental conditions using a set of differential equations.\n",
    "Assessing value based methods will require a discrete action space and policy based methods will require a continuous action space.\n",
    "\n",
    "\n",
    "### 3.2 RL Algorithms\n",
    "RL in real world situations uses both poly-based and value-based agents as well as model and model-free algorithms.\n",
    "The most relevant recent work in DRL CEA utilized some form of Actor-Critic methodology.\n",
    "This is likely because reference implementations are readily available, and it combines policy and value based estimations.\n",
    "\n",
    "However, other challenging real-world control problems utilize probabilistic value based methods and model informed tree search.\n",
    "Therefore, I believe it is worthwhile to do a thorough investigation of what algorithms perform best in what situations.\n",
    "\n",
    "Some suitable algorithms:\n",
    "1. Deep-Q and varieties (PDQN, DoubleDQN, Rainbow)\n",
    "2. Quantile Regression DQN\n",
    "3. Vanilla policy gradient\n",
    "4. Trust region policy optimization\n",
    "5. Proximal policy optimization\n",
    "6. Deep deterministic policy gradient\n",
    "7. Twin delayed DDPG\n",
    "8. Soft Actor Critic\n"
   ],
   "metadata": {
    "collapsed": false,
    "pycharm": {
     "name": "#%% md\n"
    }
   }
  },
  {
   "cell_type": "markdown",
   "source": [
    "## 4. Experiments\n",
    "---\n",
    "Here are some basic POC base experiments."
   ],
   "metadata": {
    "collapsed": false,
    "pycharm": {
     "name": "#%% md\n"
    }
   }
  },
  {
   "cell_type": "code",
   "execution_count": null,
   "outputs": [],
   "source": [
    "\"\"\"Vanilla Deep Q\"\"\"\n"
   ],
   "metadata": {
    "collapsed": false,
    "pycharm": {
     "name": "#%%\n"
    }
   }
  },
  {
   "cell_type": "code",
   "execution_count": null,
   "outputs": [],
   "source": [
    "\"\"\"Prioritized Deep Q\"\"\"\n"
   ],
   "metadata": {
    "collapsed": false,
    "pycharm": {
     "name": "#%%\n"
    }
   }
  },
  {
   "cell_type": "code",
   "execution_count": null,
   "outputs": [],
   "source": [
    "\"\"\"Deep Deterministic Policy Gradient\"\"\"\n"
   ],
   "metadata": {
    "collapsed": false,
    "pycharm": {
     "name": "#%%\n"
    }
   }
  },
  {
   "cell_type": "markdown",
   "source": [
    "## 5. Conclusion\n",
    "---\n",
    "Initial\n"
   ],
   "metadata": {
    "collapsed": false,
    "pycharm": {
     "name": "#%% md\n"
    }
   }
  },
  {
   "cell_type": "markdown",
   "source": [
    "## other notes\n",
    "---\n",
    "- a system that is robust to structural environmental variation\n",
    "    - eg. buildings of different forms\n",
    "    - i want it to intuit from the structure and historical data, a reasonable policy\n",
    "    - given minimal information and minimal sampling, provide a robust system\n",
    "\n",
    "- learn the physics of the system so that the algorithm can be transported to multiple environments\n",
    "    - this means that the relevant features of the building need to be incorporated to the state\n",
    "- Training needs to focus on dealing with stochastically generated environments\n",
    "    - new ideal temp and environmental conditions between sets of episodes within some range\n",
    "\n",
    "- using a markov model to take what experiences have been seen and generate more from similar distributions\n",
    "    - this would address sample efficiency\n",
    "\n",
    "Related Work\n"
   ],
   "metadata": {
    "collapsed": false,
    "pycharm": {
     "name": "#%% md\n"
    }
   }
  },
  {
   "cell_type": "markdown",
   "source": [
    "# todo\n",
    "1. create a continuous version of the greenhouse gym so that we can use policy based methods\n",
    "    - This will involve scaling the cooling to an action space of [-1, 1]\n",
    "    - handling the scaling from [-1, 1] to [min_action, max_action] in the environment makes system more robust to changing agents\n",
    "    - use box2D for the action space\n",
    "    - re-look at bipedal if confused\n",
    "2. add radiative heat flow to the problem\n",
    "4. clean agent code"
   ],
   "metadata": {
    "collapsed": false,
    "pycharm": {
     "name": "#%% md\n"
    }
   }
  }
 ],
 "metadata": {
  "kernelspec": {
   "display_name": "Python 2",
   "language": "python",
   "name": "python2"
  },
  "language_info": {
   "codemirror_mode": {
    "name": "ipython",
    "version": 2
   },
   "file_extension": ".py",
   "mimetype": "text/x-python",
   "name": "python",
   "nbconvert_exporter": "python",
   "pygments_lexer": "ipython2",
   "version": "2.7.6"
  }
 },
 "nbformat": 4,
 "nbformat_minor": 0
}