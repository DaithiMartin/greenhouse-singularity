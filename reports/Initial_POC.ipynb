{
 "cells": [
  {
   "cell_type": "markdown",
   "metadata": {
    "collapsed": true,
    "pycharm": {
     "name": "#%% md\n"
    }
   },
   "source": [
    "# RL For Controlled Environment Agriculture\n",
    "\n",
    "- i want to make a system that is robust to structural environmental variation\n",
    "    - eg. buildings of different forms\n",
    "    - i want it to intuit from the structure and historical data, a reasonable policy\n",
    "    - given minimal information and minimal sampling, provide a robust system\n",
    "\n",
    "- learn the physics of the system so that the algorithm can be transported to multiple environments\n",
    "    - this means that the relevant features of the building need to be incorporated to the state\n",
    "- Training needs to focus on dealing with stochastically generated environments\n",
    "    - new ideal temp and environmental conditions between sets of episodes within some range"
   ]
  }
 ],
 "metadata": {
  "kernelspec": {
   "display_name": "Python 2",
   "language": "python",
   "name": "python2"
  },
  "language_info": {
   "codemirror_mode": {
    "name": "ipython",
    "version": 2
   },
   "file_extension": ".py",
   "mimetype": "text/x-python",
   "name": "python",
   "nbconvert_exporter": "python",
   "pygments_lexer": "ipython2",
   "version": "2.7.6"
  }
 },
 "nbformat": 4,
 "nbformat_minor": 0
}