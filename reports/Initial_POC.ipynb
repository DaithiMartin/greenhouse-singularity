{
 "cells": [
  {
   "cell_type": "markdown",
   "metadata": {
    "collapsed": true,
    "pycharm": {
     "name": "#%% md\n"
    }
   },
   "source": [
    "# RL For Controlled Environment Agriculture\n",
    "\n",
    "- i want to make a system that is robust to structural environmental variation\n",
    "    - eg. buildings of different forms\n",
    "    - i want it to intuit from the structure and historical data, a reasonable policy\n",
    "    - given minimal information and minimal sampling, provide a robust system\n",
    "\n",
    "- learn the physics of the system so that the algorithm can be transported to multiple environments\n",
    "    - this means that the relevant features of the building need to be incorporated to the state\n",
    "- Training needs to focus on dealing with stochastically generated environments\n",
    "    - new ideal temp and environmental conditions between sets of episodes within some range\n",
    "\n",
    "- using a markov model to take what experiences have been seen and generate more from similar distributions\n",
    "    - this would address sample efficiency\n",
    "\n",
    "Related Work\n"
   ]
  },
  {
   "cell_type": "markdown",
   "source": [
    "# todo\n",
    "1. create a continuous version of the greenhouse gym so that we can use policy based methods\n",
    "    - This will involve scaling the cooling to an action space of [-1, 1]\n",
    "    - handling the scaling from [-1, 1] to [min_action, max_action] in the environment makes system more robust to changing agents\n",
    "    - use box2D for the action space\n",
    "    - re-look at bipedal if confused\n",
    "2. add radiative heat flow to the problem\n",
    "3. create mach paper where we examine the behavior of three agents in greenhouse environment\n",
    "4. clean agent code"
   ],
   "metadata": {
    "collapsed": false,
    "pycharm": {
     "name": "#%% md\n"
    }
   }
  }
 ],
 "metadata": {
  "kernelspec": {
   "display_name": "Python 2",
   "language": "python",
   "name": "python2"
  },
  "language_info": {
   "codemirror_mode": {
    "name": "ipython",
    "version": 2
   },
   "file_extension": ".py",
   "mimetype": "text/x-python",
   "name": "python",
   "nbconvert_exporter": "python",
   "pygments_lexer": "ipython2",
   "version": "2.7.6"
  }
 },
 "nbformat": 4,
 "nbformat_minor": 0
}